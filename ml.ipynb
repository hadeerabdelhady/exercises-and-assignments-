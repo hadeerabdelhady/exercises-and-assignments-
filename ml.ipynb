{
  "cells": [
    {
      "cell_type": "code",
      "execution_count": 12,
      "metadata": {
        "id": "tpCBWV3p-iHl"
      },
      "outputs": [],
      "source": [
        "import numpy as np\n",
        "from tensorflow.keras.datasets import cifar10\n",
        "(train_images, train_labels), (test_images, test_labels) = cifar10.load_data() #هنا انا عملت  داونلود للدتا عادي\n",
        "\n",
        "features = np.concatenate((train_images, test_images), axis=0)#هنا انا مخلي الصور لوحدها\n",
        "labels = np.concatenate((train_labels, test_labels), axis=0)#وهنا بردوا الكلاسيس لوحدها عادي"
      ]
    },
    {
      "cell_type": "code",
      "execution_count": 13,
      "metadata": {
        "colab": {
          "base_uri": "https://localhost:8080/"
        },
        "id": "8wef5AhDI2wf",
        "outputId": "aae817bb-e110-4539-b93a-5bd932c15a2a"
      },
      "outputs": [
        {
          "data": {
            "text/plain": [
              "(60000, 32, 32, 3)"
            ]
          },
          "execution_count": 13,
          "metadata": {},
          "output_type": "execute_result"
        }
      ],
      "source": [
        "features.shape#طبعا احنا مش هينفع تشتغل ع الشكل ده عشان ده معناه ان عندك 60000صورة كل واحدة سايز 32*32*3\n",
        "# ف هنضطر نغيرها يعنيRGB"
      ]
    },
    {
      "cell_type": "code",
      "execution_count": 14,
      "metadata": {
        "colab": {
          "base_uri": "https://localhost:8080/"
        },
        "id": "9m86xEqEhI_j",
        "outputId": "a49bddda-fa60-4eab-ecd7-99429e6f39c0"
      },
      "outputs": [
        {
          "data": {
            "text/plain": [
              "(60000, 1)"
            ]
          },
          "execution_count": 14,
          "metadata": {},
          "output_type": "execute_result"
        }
      ],
      "source": [
        "labels.shape# هنا دول عدد الكلاسيس 600000مظبوط ع الصور عادي"
      ]
    },
    {
      "cell_type": "code",
      "execution_count": 15,
      "metadata": {
        "id": "5srMjKRTVR9k"
      },
      "outputs": [],
      "source": [
        "features=features.reshape((features.shape[0],-1))# هنا انا حولتلك الصور ام\n",
        "#rgb لفيشترز عشان تقدر تشوفها\n",
        "#2d عشان تقدر تتخيلهم كل عمود هو عبارة عن بيكسل من 0 لحد255"
      ]
    },
    {
      "cell_type": "code",
      "execution_count": 16,
      "metadata": {
        "colab": {
          "base_uri": "https://localhost:8080/"
        },
        "id": "x-M1NAR-Y3gy",
        "outputId": "4f01206b-ff1e-4217-ce8b-e739ee460dce"
      },
      "outputs": [
        {
          "data": {
            "text/plain": [
              "array([[6],\n",
              "       [9],\n",
              "       [9],\n",
              "       ...,\n",
              "       [5],\n",
              "       [1],\n",
              "       [7]], dtype=uint8)"
            ]
          },
          "execution_count": 16,
          "metadata": {},
          "output_type": "execute_result"
        }
      ],
      "source": [
        "labels# هنا طبعا دول 60000واحدة متكررين عشان انا جمعتهم كلهم ع بعض فوق لكن الكلاسيس عندك من 0 لحد 9"
      ]
    },
    {
      "cell_type": "code",
      "execution_count": 17,
      "metadata": {
        "colab": {
          "base_uri": "https://localhost:8080/"
        },
        "id": "PlUbe74ehx7f",
        "outputId": "ed932bdb-0cf1-4e29-a1c0-0c09613b8630"
      },
      "outputs": [
        {
          "data": {
            "text/plain": [
              "(60000, 3072)"
            ]
          },
          "execution_count": 17,
          "metadata": {},
          "output_type": "execute_result"
        }
      ],
      "source": [
        "features.shape"
      ]
    },
    {
      "cell_type": "code",
      "execution_count": 18,
      "metadata": {
        "id": "lnGwNLO6jIVk"
      },
      "outputs": [],
      "source": [
        "features = features/255.0"
      ]
    },
    {
      "cell_type": "code",
      "execution_count": 19,
      "metadata": {
        "colab": {
          "base_uri": "https://localhost:8080/"
        },
        "id": "EDZ85iwYkC7q",
        "outputId": "8ee76dcb-5159-4057-ed18-47421b0ca303"
      },
      "outputs": [
        {
          "data": {
            "text/plain": [
              "numpy.ndarray"
            ]
          },
          "execution_count": 19,
          "metadata": {},
          "output_type": "execute_result"
        }
      ],
      "source": [
        "type(features)"
      ]
    },
    {
      "cell_type": "code",
      "execution_count": null,
      "metadata": {
        "colab": {
          "base_uri": "https://localhost:8080/"
        },
        "id": "bObVEy8Q22xO",
        "outputId": "9fd87e24-1c87-4bd4-a3eb-e8094f1d2043"
      },
      "outputs": [
        {
          "name": "stdout",
          "output_type": "stream",
          "text": [
            "Training data shape: (42000, 3072)\n",
            "Training labels shape: (42000, 1)\n",
            "Validation data shape: (9000, 3072)\n",
            "Validation labels shape: (9000, 1)\n",
            "Testing data shape: (9000, 3072)\n",
            "Testing labels shape: (9000, 1)\n"
          ]
        }
      ],
      "source": [
        "from sklearn.model_selection import train_test_split\n",
        "X_train, X_temp, y_train, y_temp = train_test_split(features, labels, test_size=0.3, random_state=42)\n",
        "\n",
        "\n",
        "X_val, X_test, y_val, y_test = train_test_split(X_temp, y_temp, test_size=0.5, random_state=42)\n",
        "\n",
        "\n",
        "print(\"Training data shape:\", X_train.shape)\n",
        "print(\"Training labels shape:\", y_train.shape)\n",
        "print(\"Validation data shape:\", X_val.shape)\n",
        "print(\"Validation labels shape:\", y_val.shape)\n",
        "print(\"Testing data shape:\", X_test.shape)\n",
        "print(\"Testing labels shape:\", y_test.shape)"
      ]
    },
    {
      "cell_type": "code",
      "execution_count": null,
      "metadata": {
        "colab": {
          "base_uri": "https://localhost:8080/"
        },
        "id": "yXdtd8kC3DWC",
        "outputId": "b41ad677-17b6-407d-ca16-9fb6fd017848"
      },
      "outputs": [
        {
          "name": "stdout",
          "output_type": "stream",
          "text": [
            "Training data shape: (8400, 3072)\n",
            "Training labels shape: (8400, 1)\n",
            "Testing data shape: (3600, 3072)\n",
            "Testing labels shape: (3600, 1)\n"
          ]
        }
      ],
      "source": [
        "from sklearn.preprocessing import StandardScaler\n",
        "import cvxopt\n",
        "class_0_index=np.where(labels==0)[0]#extract indices for which classes  labels are  zero\n",
        "class_1_index=np.where(labels==1)[0]#extract indices for which classes  labels are  one\n",
        "combine_lables=np.concatenate((class_0_index,class_1_index))#combine  these indices together for both classes together\n",
        "x_features=features[combine_lables]#to get features for corrosponding indices of the  classes\n",
        "y_labels=labels[combine_lables]# to get labels for corrosponding these indices\n",
        "y_labels=np.where(y_labels==0,-1,1)#class 0->-1 and class 1->+1\n",
        "scalar=StandardScaler()\n",
        "x_features_scaled=scalar.fit_transform(x_features)\n",
        "# Split the data into training and testing sets (70% train, 30% test)\n",
        "X1_train, X1_test, y1_train, y1_test = train_test_split(x_features_scaled, y_labels, test_size=0.3, random_state=42)\n",
        "\n",
        "\n",
        "print(\"Training data shape:\", X1_train.shape)\n",
        "print(\"Training labels shape:\",y1_train.shape)\n",
        "print(\"Testing data shape:\", X1_test.shape)\n",
        "print(\"Testing labels shape:\",y1_test.shape)\n"
      ]
    },
    {
      "cell_type": "code",
      "execution_count": null,
      "metadata": {
        "colab": {
          "base_uri": "https://localhost:8080/"
        },
        "id": "wSYcj85NQgJE",
        "outputId": "f3dafe28-0c2c-4890-a992-e42d3af67621"
      },
      "outputs": [
        {
          "data": {
            "text/plain": [
              "array([[ 1.,  0.,  0., ...,  0.,  0.,  0.],\n",
              "       [ 0.,  1.,  0., ...,  0.,  0.,  0.],\n",
              "       [ 0.,  0.,  1., ...,  0.,  0.,  0.],\n",
              "       ...,\n",
              "       [-0., -0., -0., ..., -1., -0., -0.],\n",
              "       [-0., -0., -0., ..., -0., -1., -0.],\n",
              "       [-0., -0., -0., ..., -0., -0., -1.]])"
            ]
          },
          "execution_count": 75,
          "metadata": {},
          "output_type": "execute_result"
        }
      ],
      "source": [
        "sample_indices = np.random.choice(len(y1_train), size=3000, replace=False)\n",
        "X_train_sampled = X1_train[sample_indices]#choose 3000 random samples from first two classes only\n",
        "y_train_sampled = y1_train[sample_indices]#choose labels for these random samples\n",
        "K_sampled = np.dot(X_train_sampled, X_train_sampled.T)#x.x.T(kernel)\n",
        "y_outer_sampled = np.outer(y_train_sampled, y_train_sampled)#y*y\n",
        "Q = (y_outer_sampled * K_sampled)#element wise multiplication to determine signs of kernal\n",
        "c = -np.ones(len(y_train_sampled))#is used for subtraction of  linear term summation of alpha\n",
        "A = y_train_sampled.reshape(1, 3000).astype(float)#a is vector of  y_train_sampled from one row and the same number of coloumns of y_train_sampled\n",
        "b = np.array([0.0], dtype=float)# just represent vector has zero value represenent equality condition that is summation of alpha multiplied by y=0\n",
        "C = 1 # Regularization parameter\n",
        "G = np.vstack([np.eye(len(y_train_sampled)), -np.eye(len(y_train_sampled))])  # g is just compsed of n rows from positive identity matrix and n rows from negative identity matrix(n is number of alpha values)\n",
        "h = np.hstack([np.ones(len(y_train_sampled)) * C, np.zeros(len(y_train_sampled))])\n",
        "G # h is composed with n c values and n zero values to compare the first n rows from g that alpha<=c and compare second n rows from g that -alpha<=0"
      ]
    },
    {
      "cell_type": "code",
      "execution_count": null,
      "metadata": {
        "id": "KSNohc5vTAM-"
      },
      "outputs": [],
      "source": [
        "Q_cvx = cvxopt.matrix(Q)\n",
        "c_cvx = cvxopt.matrix(c)\n",
        "G_cvx = cvxopt.matrix(G)\n",
        "h_cvx = cvxopt.matrix(h)\n",
        "A_cvx = cvxopt.matrix(A)\n",
        "b_cvx = cvxopt.matrix(b)"
      ]
    },
    {
      "cell_type": "code",
      "execution_count": null,
      "metadata": {
        "colab": {
          "base_uri": "https://localhost:8080/"
        },
        "id": "op51QBu8TBuz",
        "outputId": "97f65f14-f7ab-4c35-93e6-1ee575e4c0e6"
      },
      "outputs": [
        {
          "name": "stdout",
          "output_type": "stream",
          "text": [
            "     pcost       dcost       gap    pres   dres\n",
            " 0: -4.5570e+02 -6.3168e+03  3e+04  3e+00  2e-11\n",
            " 1: -3.2544e+02 -4.1778e+03  9e+03  6e-01  2e-11\n",
            " 2: -1.9511e+02 -2.1141e+03  3e+03  2e-01  1e-11\n",
            " 3: -1.0101e+02 -8.5671e+02  1e+03  6e-02  1e-11\n",
            " 4: -5.6414e+01 -4.1262e+02  5e+02  2e-02  7e-12\n",
            " 5: -4.1994e+01 -1.6714e+02  2e+02  5e-03  5e-12\n",
            " 6: -4.2598e+01 -6.5259e+01  2e+01  7e-06  4e-12\n",
            " 7: -4.6894e+01 -5.4163e+01  7e+00  2e-06  4e-12\n",
            " 8: -4.8587e+01 -4.9921e+01  1e+00  1e-07  4e-12\n",
            " 9: -4.8939e+01 -4.9090e+01  2e-01  1e-08  4e-12\n",
            "10: -4.8984e+01 -4.8989e+01  5e-03  3e-10  4e-12\n",
            "11: -4.8985e+01 -4.8985e+01  2e-04  1e-11  4e-12\n",
            "12: -4.8985e+01 -4.8985e+01  3e-06  1e-13  4e-12\n",
            "Optimal solution found.\n",
            "Optimal alpha values: [[5.63889638e-11]\n",
            " [4.26696837e-11]\n",
            " [1.76598963e-05]\n",
            " ...\n",
            " [1.16299416e-02]\n",
            " [9.86595677e-11]\n",
            " [4.66438093e-11]]\n",
            "0.6452726489067503 1.831485706412834e-11\n",
            "Number of support vectors: 1069\n"
          ]
        }
      ],
      "source": [
        "import cvxopt\n",
        "solution = cvxopt.solvers.qp(Q_cvx, c_cvx, G_cvx, h_cvx, A_cvx, b_cvx)\n",
        "\n",
        "# Extract the optimal alpha values\n",
        "alpha = np.array(solution['x'])\n",
        "\n",
        "# Print the results\n",
        "print(\"Optimal alpha values:\", alpha)\n",
        "print(alpha.max() , alpha.min())\n",
        "print(\"Number of support vectors:\", np.sum((alpha > 1e-5) & (alpha < C)))#sum number of support vectors that are not equal 0 and not equal to c as if alpha =c then there is a value to slack variable"
      ]
    },
    {
      "cell_type": "code",
      "execution_count": null,
      "metadata": {
        "colab": {
          "base_uri": "https://localhost:8080/"
        },
        "id": "BORAm_8_vXj7",
        "outputId": "13c20d42-4df5-472b-9829-d1111549f011"
      },
      "outputs": [
        {
          "name": "stdout",
          "output_type": "stream",
          "text": [
            "Number of support vectors: 1069\n"
          ]
        }
      ],
      "source": [
        "#  support vectors\n",
        "import numpy as np\n",
        "support_vector_indices = np.where((alpha > 1e-5) & (alpha < C))[0]\n",
        "support_alphas = alpha[support_vector_indices]\n",
        "support_vectors = X_train_sampled[support_vector_indices]\n",
        "support_labels = y_train_sampled[support_vector_indices]\n",
        "\n",
        "print(\"Number of support vectors:\", len(support_vector_indices))\n"
      ]
    },
    {
      "cell_type": "code",
      "execution_count": null,
      "metadata": {
        "id": "r-WF1LnmhRkT"
      },
      "outputs": [],
      "source": [
        "support_alphas = support_alphas.ravel()\n",
        "support_labels = support_labels.ravel()"
      ]
    },
    {
      "cell_type": "code",
      "execution_count": null,
      "metadata": {
        "colab": {
          "base_uri": "https://localhost:8080/"
        },
        "id": "b9GQA767vhrp",
        "outputId": "d4e49cc8-fa52-4e95-8186-a61166750179"
      },
      "outputs": [
        {
          "name": "stdout",
          "output_type": "stream",
          "text": [
            "Weight vector (w): [ 0.20204767  0.10428764  0.03510375 ...  0.2628892  -0.16879357\n",
            "  0.19932129]\n"
          ]
        }
      ],
      "source": [
        "#  weight vector (w)\n",
        "w = np.dot(support_alphas * support_labels, support_vectors)\n",
        "print(\"Weight vector (w):\", w)\n"
      ]
    },
    {
      "cell_type": "code",
      "execution_count": null,
      "metadata": {
        "colab": {
          "base_uri": "https://localhost:8080/"
        },
        "id": "iP57u3IKvzzL",
        "outputId": "5c032174-25f9-4136-b088-466fa9e37ad5"
      },
      "outputs": [
        {
          "name": "stdout",
          "output_type": "stream",
          "text": [
            "Bias (b): -0.2970970321337158\n"
          ]
        }
      ],
      "source": [
        "# bias (b)\n",
        "b_values = support_labels - np.dot(support_vectors, w)\n",
        "b = np.mean(b_values)\n",
        "print(\"Bias (b):\", b)\n"
      ]
    },
    {
      "cell_type": "code",
      "execution_count": null,
      "metadata": {
        "colab": {
          "base_uri": "https://localhost:8080/"
        },
        "id": "HGbNaUPyyMy7",
        "outputId": "465f7b3c-2da2-4cb0-cde5-6f1b22d0c25c"
      },
      "outputs": [
        {
          "name": "stdout",
          "output_type": "stream",
          "text": [
            "Test Accuracy: 0.5009833333333333\n"
          ]
        }
      ],
      "source": [
        "# Define decision and prediction functions\n",
        "def decision_function(X):\n",
        "    return np.dot(X, w) + b\n",
        "\n",
        "def predict(X):\n",
        "    return np.sign(decision_function(X))\n",
        "\n",
        "# Evaluate on test set\n",
        "test_predictions = predict(X1_test)\n",
        "accuracy = np.mean(test_predictions == y1_test)\n",
        "print(\"Test Accuracy:\", accuracy)"
      ]
    },
    {
      "cell_type": "code",
      "execution_count": null,
      "metadata": {
        "colab": {
          "base_uri": "https://localhost:8080/"
        },
        "id": "4RzA3jqCiUXY",
        "outputId": "c81ab428-7b70-4f93-cc42-fa12787eb423"
      },
      "outputs": [
        {
          "name": "stdout",
          "output_type": "stream",
          "text": [
            "Accuracy: 0.7452777777777778\n",
            "F1 Score: 0.7252022774947557\n",
            "Recall: 0.6824591088550479\n",
            "Precision: 0.7736572890025576\n"
          ]
        }
      ],
      "source": [
        "from sklearn.metrics import accuracy_score, f1_score, recall_score, precision_score\n",
        "\n",
        "# Calculate performance metrics\n",
        "# Accuracy: Measures the percentage of correct predictions\n",
        "accuracy = accuracy_score(y1_test, test_predictions)\n",
        "\n",
        "# F1 Score: Harmonic mean of Precision and Recall, used when there's an imbalance in the classes\n",
        "f1 = f1_score(y1_test, test_predictions)\n",
        "\n",
        "# Recall: Measures how well the model detects the positive class\n",
        "recall = recall_score(y1_test, test_predictions)\n",
        "\n",
        "# Precision: Measures how accurate the positive predictions are\n",
        "precision = precision_score(y1_test, test_predictions)\n",
        "\n",
        "# Print the results\n",
        "print(f\"Accuracy: {accuracy}\")  # Prints the accuracy of the model\n",
        "print(f\"F1 Score: {f1}\")  # Prints the F1 score, balance between precision and recall\n",
        "print(f\"Recall: {recall}\")  # Prints the recall, how well the model detects positive cases\n",
        "print(f\"Precision: {precision}\")  # Prints the precision, accuracy of positive predictions"
      ]
    }
  ],
  "metadata": {
    "accelerator": "GPU",
    "colab": {
      "gpuType": "T4",
      "provenance": []
    },
    "kernelspec": {
      "display_name": "Python 3",
      "name": "python3"
    },
    "language_info": {
      "codemirror_mode": {
        "name": "ipython",
        "version": 3
      },
      "file_extension": ".py",
      "mimetype": "text/x-python",
      "name": "python",
      "nbconvert_exporter": "python",
      "pygments_lexer": "ipython3",
      "version": "3.11.9"
    }
  },
  "nbformat": 4,
  "nbformat_minor": 0
}
